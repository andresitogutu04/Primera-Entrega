{
 "metadata": {
  "name": "",
  "signature": "sha256:c3963f2cba5f56be4cccbc9e47bc9593f1b72934b7298603c51400dfb528661d"
 },
 "nbformat": 3,
 "nbformat_minor": 0,
 "worksheets": [
  {
   "cells": [
    {
     "cell_type": "code",
     "collapsed": false,
     "input": [
      "import numpy as np\n",
      "\n",
      "from vispy import app, use\n",
      "from vispy import gloo"
     ],
     "language": "python",
     "metadata": {},
     "outputs": []
    },
    {
     "cell_type": "code",
     "collapsed": false,
     "input": [
      "use('ipynb_vnc')"
     ],
     "language": "python",
     "metadata": {},
     "outputs": []
    },
    {
     "cell_type": "code",
     "collapsed": false,
     "input": [
      "# Voronoi shaders.\n",
      "VS_voronoi = \"\"\"\n",
      "attribute vec2 a_position;\n",
      "\n",
      "void main() {\n",
      "    gl_Position = vec4(a_position, 0., 1.);\n",
      "}\n",
      "\"\"\"\n",
      "\n",
      "FS_voronoi = \"\"\"\n",
      "uniform vec2 u_seeds[32];\n",
      "uniform vec3 u_colors[32];\n",
      "uniform vec2 u_screen;\n",
      "\n",
      "void main() {\n",
      "    float dist = distance(u_screen * u_seeds[0], gl_FragCoord.xy);\n",
      "    vec3 color = u_colors[0];\n",
      "    for (int i = 1; i < 32; i++) {\n",
      "        float current = distance(u_screen * u_seeds[i], gl_FragCoord.xy);\n",
      "        if (current < dist) {\n",
      "            color = u_colors[i];\n",
      "            dist = current;\n",
      "        }\n",
      "    }\n",
      "    gl_FragColor = vec4(color, 1.0);\n",
      "}\n",
      "\"\"\"\n",
      "\n",
      "\n",
      "# Seed point shaders.\n",
      "VS_seeds = \"\"\"\n",
      "attribute vec2 a_position;\n",
      "\n",
      "void main() {\n",
      "    gl_Position = vec4(2. * a_position - 1., 0., 1.);\n",
      "    gl_PointSize = 10.;\n",
      "}\n",
      "\"\"\"\n",
      "\n",
      "FS_seeds = \"\"\"\n",
      "varying vec3 v_color;\n",
      "void main() {\n",
      "    gl_FragColor = vec4(1., 1., 1., 1.);\n",
      "}\n",
      "\"\"\""
     ],
     "language": "python",
     "metadata": {},
     "outputs": []
    },
    {
     "cell_type": "code",
     "collapsed": false,
     "input": [
      "class Voronoi(app.Canvas):\n",
      "    def __init__(self):\n",
      "        app.Canvas.__init__(self, size=(600, 600))\n",
      "        \n",
      "        self.seeds = np.random.uniform(0, 1,\n",
      "                                       size=(32, 2)).astype(np.float32)\n",
      "        self.colors = np.random.uniform(0.3, 0.8, \n",
      "                                        size=(32, 3)).astype(np.float32)\n",
      "        \n",
      "        # Set Voronoi program.\n",
      "        self.program_v = gloo.Program(VS_voronoi, FS_voronoi)\n",
      "        self.program_v['a_position'] = [(-1, -1), (-1, +1), (+1, -1), (+1, +1)]\n",
      "        # HACK: work-around a bug related to uniform arrays until \n",
      "        # issue #345 is solved.\n",
      "        for i in range(32):\n",
      "            self.program_v['u_seeds[%d]' % i] = self.seeds[i, :]\n",
      "            self.program_v['u_colors[%d]' % i] = self.colors[i, :]\n",
      "            \n",
      "        # Set seed points program.\n",
      "        self.program_s = gloo.Program(VS_seeds, FS_seeds)\n",
      "        self.program_s['a_position'] = self.seeds\n",
      "\n",
      "    def on_draw(self, event):\n",
      "        gloo.clear()\n",
      "        self.program_v.draw('triangle_strip')\n",
      "        self.program_s.draw('points')\n",
      "\n",
      "    def on_resize(self, event):\n",
      "        self.width, self.height = event.size\n",
      "        gloo.set_viewport(0, 0, self.width, self.height)\n",
      "        self.program_v['u_screen'] = (self.width, self.height)\n",
      "        \n",
      "    def on_mouse_move(self, event):\n",
      "        x, y = event.pos\n",
      "        x, y = x/float(self.width), 1-y/float(self.height)\n",
      "        self.program_v['u_seeds[0]'] = x, y\n",
      "        # TODO: just update the first line in the VBO instead of uploading the\n",
      "        # whole array of seed points.\n",
      "        self.seeds[0, :] = x, y\n",
      "        self.program_s['a_position'].set_data(self.seeds)\n",
      "        self.update()"
     ],
     "language": "python",
     "metadata": {},
     "outputs": []
    },
    {
     "cell_type": "code",
     "collapsed": false,
     "input": [
      "v = Voronoi()"
     ],
     "language": "python",
     "metadata": {},
     "outputs": []
    },
    {
     "cell_type": "code",
     "collapsed": false,
     "input": [
      "v.show()"
     ],
     "language": "python",
     "metadata": {},
     "outputs": []
    },
    {
     "cell_type": "code",
     "collapsed": false,
     "input": [
      "v.close()"
     ],
     "language": "python",
     "metadata": {},
     "outputs": []
    }
   ],
   "metadata": {}
  }
 ]
}