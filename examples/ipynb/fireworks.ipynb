{
 "metadata": {
  "name": "",
  "signature": "sha256:e74edb1295cbe783f722608e7619d1864b8d10a0f2e3cc038d6eb846220ea4d2"
 },
 "nbformat": 3,
 "nbformat_minor": 0,
 "worksheets": [
  {
   "cells": [
    {
     "cell_type": "code",
     "collapsed": false,
     "input": [
      "import time\n",
      "import numpy as np\n",
      "from vispy import gloo\n",
      "from vispy import app, use"
     ],
     "language": "python",
     "metadata": {},
     "outputs": []
    },
    {
     "cell_type": "code",
     "collapsed": false,
     "input": [
      "use('ipynb_vnc')"
     ],
     "language": "python",
     "metadata": {},
     "outputs": []
    },
    {
     "cell_type": "code",
     "collapsed": false,
     "input": [
      "# Create a texture\n",
      "radius = 32\n",
      "im1 = np.random.normal(\n",
      "    0.8, 0.3, (radius * 2 + 1, radius * 2 + 1)).astype(np.float32)\n",
      "\n",
      "# Mask it with a disk\n",
      "L = np.linspace(-radius, radius, 2 * radius + 1)\n",
      "(X, Y) = np.meshgrid(L, L)\n",
      "im1 *= np.array((X ** 2 + Y ** 2) <= radius * radius, dtype='float32')\n",
      "\n",
      "# Set number of particles, you should be able to scale this to 100000\n",
      "N = 10000\n",
      "\n",
      "# Create vertex data container\n",
      "data = np.zeros(N, [('a_lifetime', np.float32, 1),\n",
      "                    ('a_startPosition', np.float32, 3),\n",
      "                    ('a_endPosition', np.float32, 3)])\n",
      "\n",
      "\n",
      "VERT_SHADER = \"\"\"\n",
      "#version 120\n",
      "uniform float u_time;\n",
      "uniform vec3 u_centerPosition;\n",
      "attribute float a_lifetime;\n",
      "attribute vec3 a_startPosition;\n",
      "attribute vec3 a_endPosition;\n",
      "varying float v_lifetime;\n",
      "\n",
      "void main () {\n",
      "    if (u_time <= a_lifetime)\n",
      "    {\n",
      "        gl_Position.xyz = a_startPosition + (u_time * a_endPosition);\n",
      "        gl_Position.xyz += u_centerPosition;\n",
      "        gl_Position.y -= 1.0 * u_time * u_time;\n",
      "        gl_Position.w = 1.0;\n",
      "    }\n",
      "    else\n",
      "        gl_Position = vec4(-1000, -1000, 0, 0);\n",
      "\n",
      "    v_lifetime = 1.0 - (u_time / a_lifetime);\n",
      "    v_lifetime = clamp(v_lifetime, 0.0, 1.0);\n",
      "    gl_PointSize = (v_lifetime * v_lifetime) * 40.0;\n",
      "}\n",
      "\"\"\"\n",
      "\n",
      "FRAG_SHADER = \"\"\"\n",
      "#version 120\n",
      "\n",
      "uniform sampler2D texture1;\n",
      "uniform vec4 u_color;\n",
      "varying float v_lifetime;\n",
      "uniform sampler2D s_texture;\n",
      "\n",
      "void main()\n",
      "{\n",
      "    vec4 texColor;\n",
      "    texColor = texture2D(s_texture, gl_PointCoord);\n",
      "    gl_FragColor = vec4(u_color) * texColor;\n",
      "    gl_FragColor.a *= v_lifetime;\n",
      "}\n",
      "\"\"\""
     ],
     "language": "python",
     "metadata": {},
     "outputs": []
    },
    {
     "cell_type": "code",
     "collapsed": false,
     "input": [
      "class Firework(app.Canvas):\n",
      "    def __init__(self, *args, **kwargs):\n",
      "        app.Canvas.__init__(self, *args, **kwargs)\n",
      "\n",
      "        # Create program\n",
      "        self._program = gloo.Program(VERT_SHADER, FRAG_SHADER)\n",
      "        self._program.bind(gloo.VertexBuffer(data))\n",
      "        self._program['s_texture'] = gloo.Texture2D(im1)\n",
      "        self.connect(self.on_timer)\n",
      "        self.explosion((0, 0))\n",
      "\n",
      "    def on_initialize(self, event):\n",
      "        # Enable blending\n",
      "        gloo.set_state(blend=True, clear_color=(0, 0, 0, 1),\n",
      "                       blend_func=('src_alpha', 'one'))\n",
      "    \n",
      "    def on_timer(self, event):\n",
      "        self.update()\n",
      "        self.app.process_events()\n",
      "    \n",
      "    def on_mouse_press(self, event):\n",
      "        self.explosion(event.pos)\n",
      "\n",
      "    def on_draw(self, event):\n",
      "        # Clear\n",
      "        gloo.clear()\n",
      "        # Draw\n",
      "        self._program['u_time'] = time.time() - self._starttime\n",
      "        self._program.draw('points')\n",
      "\n",
      "    def explosion(self, pos):\n",
      "        # New centerpos\n",
      "        # centerpos = np.random.uniform(-0.5, 0.5, (3,))\n",
      "        centerpos = np.ndarray(3)\n",
      "        centerpos[0] = float(pos[0])/250.0 - 1.0\n",
      "        centerpos[1] = 1.0 - float(pos[1])/250.0\n",
      "        centerpos[2] = 0\n",
      "        self._program['u_centerPosition'] = centerpos\n",
      "\n",
      "        # New color, scale alpha with N\n",
      "        alpha = 1.0 / N ** 0.08\n",
      "        color = np.random.uniform(0.1, 0.9, (3,))\n",
      "\n",
      "        self._program['u_color'] = tuple(color) + (alpha,)\n",
      "\n",
      "        # Create new vertex data\n",
      "        data['a_lifetime'] = np.random.normal(2.0, 0.5, (N,))\n",
      "        data['a_startPosition'] = np.random.normal(0.0, 0.2, (N, 3))\n",
      "        data['a_endPosition'] = np.random.normal(0.0, 1.2, (N, 3))\n",
      "        \n",
      "        self._starttime = time.time()"
     ],
     "language": "python",
     "metadata": {},
     "outputs": []
    },
    {
     "cell_type": "code",
     "collapsed": false,
     "input": [
      "f = Firework(size=(500, 500))"
     ],
     "language": "python",
     "metadata": {},
     "outputs": []
    },
    {
     "cell_type": "code",
     "collapsed": false,
     "input": [
      "# Click for fireworks!\n",
      "f.show()"
     ],
     "language": "python",
     "metadata": {},
     "outputs": []
    },
    {
     "cell_type": "code",
     "collapsed": false,
     "input": [
      "f.close()"
     ],
     "language": "python",
     "metadata": {},
     "outputs": []
    }
   ],
   "metadata": {}
  }
 ]
}