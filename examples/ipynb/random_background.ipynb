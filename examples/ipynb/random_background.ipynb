{
 "metadata": {
  "name": "",
  "signature": "sha256:93fa895d4fd22d4e9327affc1847b76c4c5d4d880cd56ada11d159d1ec0695e2"
 },
 "nbformat": 3,
 "nbformat_minor": 0,
 "worksheets": [
  {
   "cells": [
    {
     "cell_type": "code",
     "collapsed": false,
     "input": [
      "import numpy as np\n",
      "\n",
      "from vispy import app, use\n",
      "from vispy.gloo import gl"
     ],
     "language": "python",
     "metadata": {},
     "outputs": []
    },
    {
     "cell_type": "code",
     "collapsed": false,
     "input": [
      "use('ipynb_vnc')"
     ],
     "language": "python",
     "metadata": {},
     "outputs": []
    },
    {
     "cell_type": "code",
     "collapsed": false,
     "input": [
      "class Vispynb(app.Canvas):\n",
      "    def __init__(self, *args, **kwargs):\n",
      "        app.Canvas.__init__(self, *args, **kwargs)\n",
      "        self._backend._vispy_warmup()\n",
      "        \n",
      "    def on_draw(self, event):\n",
      "        gl.glClear(gl.GL_COLOR_BUFFER_BIT)\n",
      "        print \"ondraw\"\n",
      "        \n",
      "    def on_mouse_press(self, event):\n",
      "        r, g, b = np.random.rand(3)\n",
      "        gl.glClearColor(r, g, b, 1)\n",
      "        self.update()\n",
      "        self.app.process_events()\n",
      "        \n",
      "    def on_mouse_release(self, event):\n",
      "        print \"Pos, modifiers: \", event.pos, event.modifiers\n",
      "    \n",
      "    #def on_mouse_move(self, event):\n",
      "        #print event.pos\n",
      "        \n",
      "    def on_mouse_wheel(self, event):\n",
      "        print \"Delta: \", event.delta\n",
      "        \n",
      "    def on_key_press(self, event):\n",
      "        print \"Key, modifiers: \", event.key, event.modifiers\n",
      "    \n",
      "    #def on_key_release(self, event):\n",
      "        #print event.key, event.modifiers\n",
      "        \n",
      "    def on_resize(self, event):\n",
      "        print \"New size: \", event.size"
     ],
     "language": "python",
     "metadata": {},
     "outputs": []
    },
    {
     "cell_type": "code",
     "collapsed": false,
     "input": [
      "c = Vispynb(size=(300,300))"
     ],
     "language": "python",
     "metadata": {},
     "outputs": []
    },
    {
     "cell_type": "code",
     "collapsed": false,
     "input": [
      "c.show() # Click on empty canvas"
     ],
     "language": "python",
     "metadata": {},
     "outputs": []
    },
    {
     "cell_type": "code",
     "collapsed": false,
     "input": [
      "c.size = (600,500)"
     ],
     "language": "python",
     "metadata": {},
     "outputs": []
    },
    {
     "cell_type": "code",
     "collapsed": false,
     "input": [
      "c.close()"
     ],
     "language": "python",
     "metadata": {},
     "outputs": []
    },
    {
     "cell_type": "code",
     "collapsed": false,
     "input": [],
     "language": "python",
     "metadata": {},
     "outputs": []
    }
   ],
   "metadata": {}
  }
 ]
}